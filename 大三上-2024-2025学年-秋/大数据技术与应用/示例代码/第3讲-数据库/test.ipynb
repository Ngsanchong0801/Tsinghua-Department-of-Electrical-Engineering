{
 "cells": [
  {
   "cell_type": "code",
   "execution_count": 8,
   "metadata": {},
   "outputs": [],
   "source": [
    "import pandas as pd\n",
    "\n",
    "df_class = pd.read_excel('./db/demo_lecture3.xlsx', sheet_name='class')\n",
    "df_student = pd.read_excel('./db/demo_lecture3.xlsx', sheet_name='student')\n",
    "df_student['birthday'] = df_student['birthday'].astype(str)\n",
    "df_course = pd.read_excel('./db/demo_lecture3.xlsx', sheet_name='course')\n",
    "df_score = pd.read_excel('./db/demo_lecture3.xlsx', sheet_name='score')"
   ]
  },
  {
   "cell_type": "code",
   "execution_count": 9,
   "metadata": {},
   "outputs": [],
   "source": [
    "import sqlite3\n",
    "\n",
    "# conn = sqlite3.connect(':memory:')\n",
    "conn = sqlite3.connect('./db/demo_lecture3.db')\n",
    "cur = conn.cursor()\n",
    "# drop all existing tables\n",
    "tables = ('class', 'student', 'course', 'score')\n",
    "for table in tables:\n",
    "    cur.execute(f\"drop table if exists {table}\")\n",
    "# create tables from df\n",
    "df_class.to_sql('class', conn, if_exists='replace', index=False)\n",
    "df_student.to_sql('student', conn, if_exists='replace', index=False)\n",
    "df_course.to_sql('course', conn, if_exists='replace', index=False)\n",
    "df_score.to_sql('score', conn, if_exists='replace', index=False)\n",
    "cur.close()\n",
    "conn.close()"
   ]
  },
  {
   "cell_type": "code",
   "execution_count": 10,
   "metadata": {},
   "outputs": [
    {
     "name": "stdout",
     "output_type": "stream",
     "text": [
      "[(701008, 'AC001', 7081, 76), (701008, 'CN028', 7081, 86), (701008, 'CS012', 7082, 93), (701008, 'CS015', 8091, 96), (703045, 'AC001', 7081, 52), (703045, 'AC001', 8091, 94), (703045, 'CN028', 7081, 80), (703045, 'CS015', 8091, 82)]\n"
     ]
    }
   ],
   "source": [
    "conn = sqlite3.connect('./db/demo_lecture3.db')\n",
    "cur = conn.cursor()\n",
    "# select score of 王红\n",
    "cur.execute('select * from score where studentNo in (select studentNo from student where studentName = \"王红\")')\n",
    "print(cur.fetchall())\n",
    "conn.commit()\n",
    "cur.close()\n",
    "conn.close()"
   ]
  }
 ],
 "metadata": {
  "kernelspec": {
   "display_name": "jxpy310",
   "language": "python",
   "name": "python3"
  },
  "language_info": {
   "codemirror_mode": {
    "name": "ipython",
    "version": 3
   },
   "file_extension": ".py",
   "mimetype": "text/x-python",
   "name": "python",
   "nbconvert_exporter": "python",
   "pygments_lexer": "ipython3",
   "version": "3.9.19"
  },
  "orig_nbformat": 4
 },
 "nbformat": 4,
 "nbformat_minor": 2
}
