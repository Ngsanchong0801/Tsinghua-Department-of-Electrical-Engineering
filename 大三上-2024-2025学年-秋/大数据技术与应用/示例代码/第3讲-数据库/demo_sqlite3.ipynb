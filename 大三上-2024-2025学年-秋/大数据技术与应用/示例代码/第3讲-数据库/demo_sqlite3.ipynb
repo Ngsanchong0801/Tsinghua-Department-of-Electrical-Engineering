{
 "cells": [
  {
   "cell_type": "markdown",
   "metadata": {},
   "source": [
    "## Import sqlite3 module"
   ]
  },
  {
   "cell_type": "code",
   "execution_count": 1,
   "metadata": {},
   "outputs": [],
   "source": [
    "import sqlite3"
   ]
  },
  {
   "cell_type": "markdown",
   "metadata": {},
   "source": [
    "## Connect to a database"
   ]
  },
  {
   "cell_type": "markdown",
   "metadata": {},
   "source": [
    "#### Connect to an existing database or create a new one"
   ]
  },
  {
   "cell_type": "code",
   "execution_count": 2,
   "metadata": {},
   "outputs": [],
   "source": [
    "conn = sqlite3.connect('./db/demo_lecture3.db')"
   ]
  },
  {
   "cell_type": "markdown",
   "metadata": {},
   "source": [
    "#### Get a cursor object to handle SQL statements"
   ]
  },
  {
   "cell_type": "code",
   "execution_count": 3,
   "metadata": {},
   "outputs": [],
   "source": [
    "cur = conn.cursor()"
   ]
  },
  {
   "cell_type": "markdown",
   "metadata": {},
   "source": [
    "#### Get all tables in the database"
   ]
  },
  {
   "cell_type": "code",
   "execution_count": 4,
   "metadata": {},
   "outputs": [
    {
     "name": "stdout",
     "output_type": "stream",
     "text": [
      "[('class',), ('student',), ('course',), ('score',)]\n"
     ]
    }
   ],
   "source": [
    "tablename = cur.execute(\"select name from sqlite_master where type='table' and name!='sqlite_sequence'\").fetchall()\n",
    "print(tablename)"
   ]
  },
  {
   "cell_type": "markdown",
   "metadata": {},
   "source": [
    "#### Drop all existing tables"
   ]
  },
  {
   "cell_type": "code",
   "execution_count": 5,
   "metadata": {},
   "outputs": [],
   "source": [
    "for name in tablename:\n",
    "    cur.execute(f\"drop table if exists {name[0]}\")"
   ]
  },
  {
   "cell_type": "markdown",
   "metadata": {},
   "source": [
    "#### Load data from an excel file"
   ]
  },
  {
   "cell_type": "code",
   "execution_count": 20,
   "metadata": {},
   "outputs": [],
   "source": [
    "import pandas as pd\n",
    "\n",
    "df_class = pd.read_excel('./db/demo_lecture3.xlsx', sheet_name='class')\n",
    "df_student = pd.read_excel('./db/demo_lecture3.xlsx', sheet_name='student')\n",
    "df_student['birthday'] = df_student['birthday'].astype(str)\n",
    "df_course = pd.read_excel('./db/demo_lecture3.xlsx', sheet_name='course')\n",
    "df_score = pd.read_excel('./db/demo_lecture3.xlsx', sheet_name='score')"
   ]
  },
  {
   "cell_type": "markdown",
   "metadata": {},
   "source": [
    "#### Convert pandas.dataframe to database table"
   ]
  },
  {
   "cell_type": "code",
   "execution_count": 21,
   "metadata": {},
   "outputs": [
    {
     "data": {
      "text/plain": [
       "20"
      ]
     },
     "execution_count": 21,
     "metadata": {},
     "output_type": "execute_result"
    }
   ],
   "source": [
    "df_class.to_sql('class', conn, if_exists='replace', index=False)\n",
    "df_student.to_sql('student', conn, if_exists='replace', index=False)\n",
    "df_course.to_sql('course', conn, if_exists='replace', index=False)\n",
    "df_score.to_sql('score', conn, if_exists='replace', index=False)"
   ]
  },
  {
   "cell_type": "markdown",
   "metadata": {},
   "source": [
    "## Execute SQL statements"
   ]
  },
  {
   "cell_type": "markdown",
   "metadata": {},
   "source": [
    "#### Select"
   ]
  },
  {
   "cell_type": "code",
   "execution_count": 22,
   "metadata": {},
   "outputs": [
    {
     "data": {
      "text/plain": [
       "<sqlite3.Cursor at 0x234b03247c0>"
      ]
     },
     "execution_count": 22,
     "metadata": {},
     "output_type": "execute_result"
    }
   ],
   "source": [
    "sqlstr = 'select * from student'\n",
    "cur.execute(sqlstr)"
   ]
  },
  {
   "cell_type": "markdown",
   "metadata": {},
   "source": [
    "#### Get all rows of the result"
   ]
  },
  {
   "cell_type": "code",
   "execution_count": 23,
   "metadata": {},
   "outputs": [
    {
     "data": {
      "text/plain": [
       "[(701001, '李小勇', '男', '1990-12-21', '南昌', '汉族', 'CS0701'),\n",
       " (701008, '王红', '男', '1992-04-26', '上海', '汉族', 'CS0701'),\n",
       " (703010, '李宏冰', '女', '1992-03-09', '太原', '蒙古族', 'AC0703'),\n",
       " (703045, '王红', '男', '1992-04-26', '北京', '汉族', 'AC0703'),\n",
       " (802002, '刘方晨', '女', '1990-11-11', '南昌', '傣族', 'ISO802'),\n",
       " (802005, '王红敏', '女', '1990-10-01', '上海', '蒙古族', 'ISO802')]"
      ]
     },
     "execution_count": 23,
     "metadata": {},
     "output_type": "execute_result"
    }
   ],
   "source": [
    "cur.fetchall()"
   ]
  },
  {
   "cell_type": "markdown",
   "metadata": {},
   "source": [
    "#### Execute an insert statement"
   ]
  },
  {
   "cell_type": "code",
   "execution_count": 24,
   "metadata": {},
   "outputs": [
    {
     "data": {
      "text/plain": [
       "<sqlite3.Cursor at 0x234b03247c0>"
      ]
     },
     "execution_count": 24,
     "metadata": {},
     "output_type": "execute_result"
    }
   ],
   "source": [
    "sqlstr = \"insert into student values(450216,'李四','男', '1990-12-09', '北京', '傈僳族', 'EE0026')\"\n",
    "cur.execute(sqlstr)"
   ]
  },
  {
   "cell_type": "markdown",
   "metadata": {},
   "source": [
    "#### Commit the changes"
   ]
  },
  {
   "cell_type": "code",
   "execution_count": 25,
   "metadata": {},
   "outputs": [],
   "source": [
    "conn.commit()"
   ]
  },
  {
   "cell_type": "markdown",
   "metadata": {},
   "source": [
    "#### Print the table"
   ]
  },
  {
   "cell_type": "code",
   "execution_count": 26,
   "metadata": {},
   "outputs": [
    {
     "data": {
      "text/plain": [
       "[(701001, '李小勇', '男', '1990-12-21', '南昌', '汉族', 'CS0701'),\n",
       " (701008, '王红', '男', '1992-04-26', '上海', '汉族', 'CS0701'),\n",
       " (703010, '李宏冰', '女', '1992-03-09', '太原', '蒙古族', 'AC0703'),\n",
       " (703045, '王红', '男', '1992-04-26', '北京', '汉族', 'AC0703'),\n",
       " (802002, '刘方晨', '女', '1990-11-11', '南昌', '傣族', 'ISO802'),\n",
       " (802005, '王红敏', '女', '1990-10-01', '上海', '蒙古族', 'ISO802'),\n",
       " (450216, '李四', '男', '1990-12-09', '北京', '傈僳族', 'EE0026')]"
      ]
     },
     "execution_count": 26,
     "metadata": {},
     "output_type": "execute_result"
    }
   ],
   "source": [
    "cur.execute('select * from student').fetchall()"
   ]
  },
  {
   "cell_type": "markdown",
   "metadata": {},
   "source": [
    "#### Convert database table into pandas.dataframe"
   ]
  },
  {
   "cell_type": "code",
   "execution_count": 27,
   "metadata": {},
   "outputs": [
    {
     "data": {
      "text/html": [
       "<div>\n",
       "<style scoped>\n",
       "    .dataframe tbody tr th:only-of-type {\n",
       "        vertical-align: middle;\n",
       "    }\n",
       "\n",
       "    .dataframe tbody tr th {\n",
       "        vertical-align: top;\n",
       "    }\n",
       "\n",
       "    .dataframe thead th {\n",
       "        text-align: right;\n",
       "    }\n",
       "</style>\n",
       "<table border=\"1\" class=\"dataframe\">\n",
       "  <thead>\n",
       "    <tr style=\"text-align: right;\">\n",
       "      <th></th>\n",
       "      <th>studentNo</th>\n",
       "      <th>studentName</th>\n",
       "      <th>sex</th>\n",
       "      <th>birthday</th>\n",
       "      <th>native</th>\n",
       "      <th>nation</th>\n",
       "      <th>classNo</th>\n",
       "    </tr>\n",
       "  </thead>\n",
       "  <tbody>\n",
       "    <tr>\n",
       "      <th>0</th>\n",
       "      <td>701001</td>\n",
       "      <td>李小勇</td>\n",
       "      <td>男</td>\n",
       "      <td>1990-12-21</td>\n",
       "      <td>南昌</td>\n",
       "      <td>汉族</td>\n",
       "      <td>CS0701</td>\n",
       "    </tr>\n",
       "    <tr>\n",
       "      <th>1</th>\n",
       "      <td>701008</td>\n",
       "      <td>王红</td>\n",
       "      <td>男</td>\n",
       "      <td>1992-04-26</td>\n",
       "      <td>上海</td>\n",
       "      <td>汉族</td>\n",
       "      <td>CS0701</td>\n",
       "    </tr>\n",
       "    <tr>\n",
       "      <th>2</th>\n",
       "      <td>703010</td>\n",
       "      <td>李宏冰</td>\n",
       "      <td>女</td>\n",
       "      <td>1992-03-09</td>\n",
       "      <td>太原</td>\n",
       "      <td>蒙古族</td>\n",
       "      <td>AC0703</td>\n",
       "    </tr>\n",
       "    <tr>\n",
       "      <th>3</th>\n",
       "      <td>703045</td>\n",
       "      <td>王红</td>\n",
       "      <td>男</td>\n",
       "      <td>1992-04-26</td>\n",
       "      <td>北京</td>\n",
       "      <td>汉族</td>\n",
       "      <td>AC0703</td>\n",
       "    </tr>\n",
       "    <tr>\n",
       "      <th>4</th>\n",
       "      <td>802002</td>\n",
       "      <td>刘方晨</td>\n",
       "      <td>女</td>\n",
       "      <td>1990-11-11</td>\n",
       "      <td>南昌</td>\n",
       "      <td>傣族</td>\n",
       "      <td>ISO802</td>\n",
       "    </tr>\n",
       "    <tr>\n",
       "      <th>5</th>\n",
       "      <td>802005</td>\n",
       "      <td>王红敏</td>\n",
       "      <td>女</td>\n",
       "      <td>1990-10-01</td>\n",
       "      <td>上海</td>\n",
       "      <td>蒙古族</td>\n",
       "      <td>ISO802</td>\n",
       "    </tr>\n",
       "    <tr>\n",
       "      <th>6</th>\n",
       "      <td>450216</td>\n",
       "      <td>李四</td>\n",
       "      <td>男</td>\n",
       "      <td>1990-12-09</td>\n",
       "      <td>北京</td>\n",
       "      <td>傈僳族</td>\n",
       "      <td>EE0026</td>\n",
       "    </tr>\n",
       "  </tbody>\n",
       "</table>\n",
       "</div>"
      ],
      "text/plain": [
       "   studentNo studentName sex    birthday native nation classNo\n",
       "0     701001         李小勇   男  1990-12-21     南昌     汉族  CS0701\n",
       "1     701008          王红   男  1992-04-26     上海     汉族  CS0701\n",
       "2     703010         李宏冰   女  1992-03-09     太原    蒙古族  AC0703\n",
       "3     703045          王红   男  1992-04-26     北京     汉族  AC0703\n",
       "4     802002         刘方晨   女  1990-11-11     南昌     傣族  ISO802\n",
       "5     802005         王红敏   女  1990-10-01     上海    蒙古族  ISO802\n",
       "6     450216          李四   男  1990-12-09     北京    傈僳族  EE0026"
      ]
     },
     "execution_count": 27,
     "metadata": {},
     "output_type": "execute_result"
    }
   ],
   "source": [
    "df_student = pd.read_sql('select * from student', conn)\n",
    "df_student"
   ]
  },
  {
   "cell_type": "markdown",
   "metadata": {},
   "source": [
    "## Close the connection"
   ]
  },
  {
   "cell_type": "code",
   "execution_count": 28,
   "metadata": {},
   "outputs": [],
   "source": [
    "cur.close()\n",
    "conn.close()"
   ]
  }
 ],
 "metadata": {
  "kernelspec": {
   "display_name": "jxpy310",
   "language": "python",
   "name": "python3"
  },
  "language_info": {
   "codemirror_mode": {
    "name": "ipython",
    "version": 3
   },
   "file_extension": ".py",
   "mimetype": "text/x-python",
   "name": "python",
   "nbconvert_exporter": "python",
   "pygments_lexer": "ipython3",
   "version": "3.9.19"
  },
  "orig_nbformat": 4
 },
 "nbformat": 4,
 "nbformat_minor": 2
}
