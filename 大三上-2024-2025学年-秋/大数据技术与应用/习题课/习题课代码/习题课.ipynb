{
 "cells": [
  {
   "cell_type": "code",
   "execution_count": 1,
   "metadata": {},
   "outputs": [],
   "source": [
    "a = 12\n",
    "a = 0.1"
   ]
  },
  {
   "cell_type": "code",
   "execution_count": 24,
   "metadata": {},
   "outputs": [
    {
     "name": "stdout",
     "output_type": "stream",
     "text": [
      "3\n",
      "[2, 3, 'a', 4]\n",
      "[2, 3, 'a', 4, 7, 8, 9]\n",
      "[2, 3, 'a', 7, 8, 9]\n",
      "[2, 3, 'a', 7, 8]\n",
      "5\n",
      "[0, 3, 'a', 7, 8]\n",
      "0\n",
      "3\n",
      "a\n",
      "7\n",
      "8\n",
      "0\n",
      "3\n",
      "a\n",
      "7\n",
      "8\n"
     ]
    }
   ],
   "source": [
    "# 列表 list\n",
    "li = [2,3,'a']\n",
    "li[2]\n",
    "print(li[-2])\n",
    "\n",
    "li.append(4)\n",
    "print(li)\n",
    "\n",
    "li_2 = [7,8,9]\n",
    "li.extend(li_2)\n",
    "print(li)\n",
    "\n",
    "li = [2,3,'a']\n",
    "li += li_2\n",
    "print(li)\n",
    "\n",
    "li.pop()\n",
    "print(li)\n",
    "\n",
    "print(len(li))\n",
    "\n",
    "li[0] = 0\n",
    "print(li) \n",
    "\n",
    "for i in li:\n",
    "    print(i)\n",
    "\n",
    "for i in range(len(li)):\n",
    "    print(li[i])\n",
    "\n"
   ]
  },
  {
   "cell_type": "code",
   "execution_count": 16,
   "metadata": {},
   "outputs": [],
   "source": [
    "# 元组 tuple\n",
    "tu = (2,3,4)"
   ]
  },
  {
   "cell_type": "code",
   "execution_count": 48,
   "metadata": {},
   "outputs": [
    {
     "name": "stdout",
     "output_type": "stream",
     "text": [
      "{'name': 'mmc', 'age': 9, 'gender': 'male', 'list': [2, 3, 4]}\n",
      "name mmc\n",
      "age 9\n",
      "gender male\n",
      "list [2, 3, 4]\n",
      "['key1', 'key2', 'key3', 'key4', 'key5', 'key6', 'key7', 'key8', 'key9', 'key10', 'key11', 'key12', 'key13', 'key14', 'key15', 'key16', 'key17', 'key18', 'key19', 'key20', 'key21', 'key22', 'key23', 'key24', 'key25', 'key26', 'key27', 'key28', 'key29', 'key30', 'key31', 'key32', 'key33', 'key34', 'key35', 'key36', 'key37', 'key38', 'key39', 'key40', 'key41', 'key42', 'key43', 'key44', 'key45', 'key46', 'key47', 'key48', 'key49', 'key50', 'key51', 'key52', 'key53', 'key54', 'key55', 'key56', 'key57', 'key58', 'key59', 'key60', 'key61', 'key62', 'key63', 'key64', 'key65', 'key66', 'key67', 'key68', 'key69', 'key70', 'key71', 'key72', 'key73', 'key74', 'key75', 'key76', 'key77', 'key78', 'key79', 'key80', 'key81', 'key82', 'key83', 'key84', 'key85', 'key86', 'key87', 'key88', 'key89', 'key90', 'key91', 'key92', 'key93', 'key94', 'key95', 'key96', 'key97', 'key98', 'key99', 'key100']\n",
      "['key2', 'key4', 'key6', 'key8', 'key10', 'key12', 'key14', 'key16', 'key18', 'key20', 'key22', 'key24', 'key26', 'key28', 'key30', 'key32', 'key34', 'key36', 'key38', 'key40', 'key42', 'key44', 'key46', 'key48', 'key50', 'key52', 'key54', 'key56', 'key58', 'key60', 'key62', 'key64', 'key66', 'key68', 'key70', 'key72', 'key74', 'key76', 'key78', 'key80', 'key82', 'key84', 'key86', 'key88', 'key90', 'key92', 'key94', 'key96', 'key98', 'key100']\n",
      "['Key1', 'key2', 'Key3', 'key4', 'Key5', 'key6', 'Key7', 'key8', 'Key9', 'key10', 'Key11', 'key12', 'Key13', 'key14', 'Key15', 'key16', 'Key17', 'key18', 'Key19', 'key20', 'Key21', 'key22', 'Key23', 'key24', 'Key25', 'key26', 'Key27', 'key28', 'Key29', 'key30', 'Key31', 'key32', 'Key33', 'key34', 'Key35', 'key36', 'Key37', 'key38', 'Key39', 'key40', 'Key41', 'key42', 'Key43', 'key44', 'Key45', 'key46', 'Key47', 'key48', 'Key49', 'key50', 'Key51', 'key52', 'Key53', 'key54', 'Key55', 'key56', 'Key57', 'key58', 'Key59', 'key60', 'Key61', 'key62', 'Key63', 'key64', 'Key65', 'key66', 'Key67', 'key68', 'Key69', 'key70', 'Key71', 'key72', 'Key73', 'key74', 'Key75', 'key76', 'Key77', 'key78', 'Key79', 'key80', 'Key81', 'key82', 'Key83', 'key84', 'Key85', 'key86', 'Key87', 'key88', 'Key89', 'key90', 'Key91', 'key92', 'Key93', 'key94', 'Key95', 'key96', 'Key97', 'key98', 'Key99', 'key100']\n"
     ]
    }
   ],
   "source": [
    "# 字典 dict\n",
    "test_dict = {'name':'mmc','age':9}\n",
    "test_dict['name']\n",
    "\n",
    "test_dict['gender'] = 'male'\n",
    "test_dict['list'] = [2,3,4]\n",
    "print(test_dict)\n",
    "\n",
    "key_li = ['key1','key2','key3']\n",
    "value_li = [1,2,3]\n",
    "\n",
    "dict(zip(key_li,value_li))\n",
    "\n",
    "for k,v in test_dict.items():\n",
    "    print(k,v)\n",
    "\n",
    "key_li = [f'key{i+1}' for i in range(100)]\n",
    "key_li_even = [f'key{i+1}' for i in range(100) if i%2]\n",
    "key_li_eo = [f'key{i+1}' if i%2 else f'Key{i+1}' for i in range(100)]\n",
    "\n",
    "print(key_li)\n",
    "print(key_li_even)\n",
    "print(key_li_eo)"
   ]
  },
  {
   "cell_type": "code",
   "execution_count": 40,
   "metadata": {},
   "outputs": [
    {
     "name": "stdout",
     "output_type": "stream",
     "text": [
      "mmc_9\n"
     ]
    }
   ],
   "source": [
    "# 字符串 string\n",
    "\n",
    "str_1 = 'mmc'\n",
    "str_2 = \"big data\"\n",
    "\n",
    "str_1[0]\n",
    "str_1[-1]\n",
    "\n",
    "## fstring\n",
    "name = 'mmc'\n",
    "grade = 9\n",
    "str_f = f'{name}_{grade}'\n",
    "print(str_f)\n"
   ]
  },
  {
   "cell_type": "code",
   "execution_count": 50,
   "metadata": {},
   "outputs": [
    {
     "name": "stdout",
     "output_type": "stream",
     "text": [
      "{1, 2, 3, 4}\n",
      "[1, 2, 3, 4, 5, 6]\n"
     ]
    }
   ],
   "source": [
    "# 集合  set\n",
    "a_set = {1,2,3,4,2}\n",
    "print(a_set)\n",
    "\n",
    "li = [1,2,3,4,5,6,4,2]\n",
    "li_set = set(li)\n",
    "print(list(li_set))"
   ]
  },
  {
   "cell_type": "code",
   "execution_count": 56,
   "metadata": {},
   "outputs": [
    {
     "name": "stdout",
     "output_type": "stream",
     "text": [
      "[1, 2, 3]\n",
      "[1, 2, 3, 4]\n",
      "[1, 2, 3, 4]\n",
      "[1, 2, 3]\n",
      "[1, 2, 3]\n",
      "[1, 2, 3]\n"
     ]
    }
   ],
   "source": [
    "# 复制\n",
    "li = [1,2,3]\n",
    "li_copy = li\n",
    "print(li_copy)\n",
    "\n",
    "li_copy.append(4)\n",
    "print(li_copy)\n",
    "print(li)\n",
    "\n",
    "li = [1,2,3]\n",
    "li_copy_2 = [i for i in li]\n",
    "print(li_copy_2)\n",
    "li_copy_2.append(4)\n",
    "print(li)\n",
    "\n",
    "li_copy_3 = li.copy()\n",
    "li_copy_3.append(4)\n",
    "print(li)"
   ]
  },
  {
   "cell_type": "code",
   "execution_count": 60,
   "metadata": {},
   "outputs": [
    {
     "data": {
      "text/plain": [
       "'male'"
      ]
     },
     "execution_count": 60,
     "metadata": {},
     "output_type": "execute_result"
    }
   ],
   "source": [
    "class Student():\n",
    "    def __init__(self,name,gender) -> None:\n",
    "        self.name = name\n",
    "        self.gender = gender\n",
    "        self.grade = 0\n",
    "    def exam(self):\n",
    "        self.grade = 'A+'\n",
    "        print('4.0')\n",
    "\n",
    "mmc = Student('mmc','male')\n",
    "mmc.name\n",
    "mmc.gender"
   ]
  },
  {
   "cell_type": "code",
   "execution_count": 70,
   "metadata": {},
   "outputs": [
    {
     "data": {
      "text/plain": [
       "array([1, 2])"
      ]
     },
     "execution_count": 70,
     "metadata": {},
     "output_type": "execute_result"
    }
   ],
   "source": [
    "import numpy as np\n",
    "\n",
    "a_array = np.array([[1,2,5],[3,4,6]])\n",
    "a_array.size\n",
    "a_array.shape\n",
    "\n",
    "a_array.T\n",
    "\n",
    "np.zeros((1,2))\n",
    "\n",
    "np.diag(np.diag([1,2]))\n"
   ]
  },
  {
   "cell_type": "code",
   "execution_count": 5,
   "metadata": {},
   "outputs": [
    {
     "data": {
      "image/png": "[encoded data removed]",
      "text/plain": [
       "<Figure size 640x480 with 1 Axes>"
      ]
     },
     "metadata": {},
     "output_type": "display_data"
    }
   ],
   "source": [
    "import matplotlib.pyplot as plt\n",
    "import numpy as np\n",
    "\n",
    "# Prepare the data\n",
    "x = np.linspace(0, 10, 100)\n",
    "\n",
    "# Plot the data\n",
    "plt.plot(x, x, label='linear')\n",
    "plt.plot(x, x * x, label='second')\n",
    "\n",
    "# Add a legend\n",
    "plt.legend()\n",
    "\n",
    "# Show the plot\n",
    "plt.show()\n",
    "plt.close()\n"
   ]
  },
  {
   "cell_type": "code",
   "execution_count": 58,
   "metadata": {},
   "outputs": [
    {
     "name": "stdout",
     "output_type": "stream",
     "text": [
      "   load_type  Stage 1 (TWh)  Stage 2 (TWh)  Stage 3 (TWh)  Stage 4 (TWh)  \\\n",
      "0          1     123.141010     134.479925     142.604651     153.174338   \n",
      "1          2       4.347600       4.415335       4.426907       4.426907   \n",
      "2          3      49.352172      71.804779      93.007661     107.246458   \n",
      "3          4      11.557946            NaN      57.721345      73.013444   \n",
      "4          5       2.083007       6.387990      17.075360      25.546317   \n",
      "5          6     190.481736     251.068761     314.835923     363.407463   \n",
      "\n",
      "   Stage 5 (TWh)  Stage 6 (TWh)  Stage 7 (TWh)  Stage 8 (TWh)  \n",
      "0     153.981556     156.233959     155.918889     155.516514  \n",
      "1       4.426907       4.426907       4.426907       4.426907  \n",
      "2     115.938373     105.493877      92.779344      79.405916  \n",
      "3      84.858447      82.304323      78.285440      70.081311  \n",
      "4      41.123420      52.888493      67.671880      65.588647  \n",
      "5     400.328702     401.347558     399.082460     375.019294  \n"
     ]
    },
    {
     "data": {
      "text/html": [
       "<div>\n",
       "<style scoped>\n",
       "    .dataframe tbody tr th:only-of-type {\n",
       "        vertical-align: middle;\n",
       "    }\n",
       "\n",
       "    .dataframe tbody tr th {\n",
       "        vertical-align: top;\n",
       "    }\n",
       "\n",
       "    .dataframe thead th {\n",
       "        text-align: right;\n",
       "    }\n",
       "</style>\n",
       "<table border=\"1\" class=\"dataframe\">\n",
       "  <thead>\n",
       "    <tr style=\"text-align: right;\">\n",
       "      <th></th>\n",
       "      <th>load_type</th>\n",
       "      <th>Stage 1 (TWh)</th>\n",
       "      <th>Stage 2 (TWh)</th>\n",
       "      <th>Stage 3 (TWh)</th>\n",
       "      <th>Stage 4 (TWh)</th>\n",
       "      <th>Stage 5 (TWh)</th>\n",
       "      <th>Stage 6 (TWh)</th>\n",
       "      <th>Stage 7 (TWh)</th>\n",
       "      <th>Stage 8 (TWh)</th>\n",
       "    </tr>\n",
       "  </thead>\n",
       "  <tbody>\n",
       "    <tr>\n",
       "      <th>0</th>\n",
       "      <td>1</td>\n",
       "      <td>123.141010</td>\n",
       "      <td>134.479925</td>\n",
       "      <td>142.604651</td>\n",
       "      <td>153.174338</td>\n",
       "      <td>153.981556</td>\n",
       "      <td>156.233959</td>\n",
       "      <td>155.918889</td>\n",
       "      <td>155.516514</td>\n",
       "    </tr>\n",
       "    <tr>\n",
       "      <th>1</th>\n",
       "      <td>2</td>\n",
       "      <td>4.347600</td>\n",
       "      <td>4.415335</td>\n",
       "      <td>4.426907</td>\n",
       "      <td>4.426907</td>\n",
       "      <td>4.426907</td>\n",
       "      <td>4.426907</td>\n",
       "      <td>4.426907</td>\n",
       "      <td>4.426907</td>\n",
       "    </tr>\n",
       "    <tr>\n",
       "      <th>2</th>\n",
       "      <td>3</td>\n",
       "      <td>49.352172</td>\n",
       "      <td>71.804779</td>\n",
       "      <td>93.007661</td>\n",
       "      <td>107.246458</td>\n",
       "      <td>115.938373</td>\n",
       "      <td>105.493877</td>\n",
       "      <td>92.779344</td>\n",
       "      <td>79.405916</td>\n",
       "    </tr>\n",
       "    <tr>\n",
       "      <th>3</th>\n",
       "      <td>4</td>\n",
       "      <td>11.557946</td>\n",
       "      <td>99.000000</td>\n",
       "      <td>57.721345</td>\n",
       "      <td>73.013444</td>\n",
       "      <td>84.858447</td>\n",
       "      <td>82.304323</td>\n",
       "      <td>78.285440</td>\n",
       "      <td>70.081311</td>\n",
       "    </tr>\n",
       "    <tr>\n",
       "      <th>4</th>\n",
       "      <td>5</td>\n",
       "      <td>2.083007</td>\n",
       "      <td>6.387990</td>\n",
       "      <td>17.075360</td>\n",
       "      <td>25.546317</td>\n",
       "      <td>41.123420</td>\n",
       "      <td>52.888493</td>\n",
       "      <td>67.671880</td>\n",
       "      <td>65.588647</td>\n",
       "    </tr>\n",
       "    <tr>\n",
       "      <th>5</th>\n",
       "      <td>6</td>\n",
       "      <td>190.481736</td>\n",
       "      <td>251.068761</td>\n",
       "      <td>314.835923</td>\n",
       "      <td>363.407463</td>\n",
       "      <td>400.328702</td>\n",
       "      <td>401.347558</td>\n",
       "      <td>399.082460</td>\n",
       "      <td>375.019294</td>\n",
       "    </tr>\n",
       "  </tbody>\n",
       "</table>\n",
       "</div>"
      ],
      "text/plain": [
       "   load_type  Stage 1 (TWh)  Stage 2 (TWh)  Stage 3 (TWh)  Stage 4 (TWh)  \\\n",
       "0          1     123.141010     134.479925     142.604651     153.174338   \n",
       "1          2       4.347600       4.415335       4.426907       4.426907   \n",
       "2          3      49.352172      71.804779      93.007661     107.246458   \n",
       "3          4      11.557946      99.000000      57.721345      73.013444   \n",
       "4          5       2.083007       6.387990      17.075360      25.546317   \n",
       "5          6     190.481736     251.068761     314.835923     363.407463   \n",
       "\n",
       "   Stage 5 (TWh)  Stage 6 (TWh)  Stage 7 (TWh)  Stage 8 (TWh)  \n",
       "0     153.981556     156.233959     155.918889     155.516514  \n",
       "1       4.426907       4.426907       4.426907       4.426907  \n",
       "2     115.938373     105.493877      92.779344      79.405916  \n",
       "3      84.858447      82.304323      78.285440      70.081311  \n",
       "4      41.123420      52.888493      67.671880      65.588647  \n",
       "5     400.328702     401.347558     399.082460     375.019294  "
      ]
     },
     "execution_count": 58,
     "metadata": {},
     "output_type": "execute_result"
    }
   ],
   "source": [
    "import pandas as pd\n",
    "\n",
    "load_peak_df = pd.read_excel('pandas_test.xlsx')\n",
    "# print(load_peak_df.columns)\n",
    "# print(list(load_peak_df.index))\n",
    "\n",
    "# print(load_peak_df)\n",
    "\n",
    "load_peak_df.loc[0,'Stage 3 (GW)']\n",
    "load_peak_df.iloc[0,4]\n",
    "\n",
    "load_energy_df = pd.read_excel('pandas_test.xlsx',sheet_name='Sheet2')\n",
    "# print(load_energy_df)\n",
    "\n",
    "# load_energy_df = pd.read_excel('pandas_test.xlsx',sheet_name='Sheet2',header=None)\n",
    "# print(load_energy_df)\n",
    "# load_energy_df.iloc[0,4]\n",
    "\n",
    "\n",
    "# load_energy_df.to_excel('pandas_output.xlsx',index=None,header=None)\n",
    "\n",
    "\n",
    "# print(load_peak_df)\n",
    "\n",
    "load_peak_df.loc[0,:]\n",
    "load_peak_df.loc[:,'load_type']\n",
    "\n",
    "load_energy_df.loc[load_energy_df['load_type']>3,:]\n",
    "\n",
    "\n",
    "load_peak_df['Stage 1 (GW)']\n",
    "\n",
    "load_peak_df.loc[6,:] = np.ones((9,))\n",
    "\n",
    "load_peak_df_new = load_peak_df.drop(index=6)\n",
    "# print(load_peak_df_new)\n",
    "\n",
    "load_peak_df['Stage 1 (GW)'].max()\n",
    "\n",
    "\n",
    "load_energy_df = pd.read_excel('pandas_test.xlsx',sheet_name='Sheet2')\n",
    "print(load_energy_df)\n",
    "load_energy_df.isna()\n",
    "\n",
    "load_energy_df[load_energy_df.isna()] = 99\n",
    "load_energy_df"
   ]
  },
  {
   "cell_type": "code",
   "execution_count": 62,
   "metadata": {},
   "outputs": [
    {
     "name": "stdout",
     "output_type": "stream",
     "text": [
      "2\n"
     ]
    }
   ],
   "source": [
    "def test_function(number=1):\n",
    "    return number \n",
    "\n",
    "print(test_function(2))"
   ]
  }
 ],
 "metadata": {
  "kernelspec": {
   "display_name": "BIgData_course",
   "language": "python",
   "name": "python3"
  },
  "language_info": {
   "codemirror_mode": {
    "name": "ipython",
    "version": 3
   },
   "file_extension": ".py",
   "mimetype": "text/x-python",
   "name": "python",
   "nbconvert_exporter": "python",
   "pygments_lexer": "ipython3",
   "version": "3.9.19"
  }
 },
 "nbformat": 4,
 "nbformat_minor": 2
}
